{
 "cells": [
  {
   "cell_type": "markdown",
   "metadata": {
    "nbpresent": {
     "id": "f9cdef97-bd87-4151-8457-a1e1cc78e4e8"
    }
   },
   "source": [
    "# CHAPTER 1 Fundamentals\n",
    "## 1.1 Basic Programming Model\n",
    "Example of binary search:"
   ]
  },
  {
   "cell_type": "code",
   "execution_count": 4,
   "metadata": {
    "collapsed": true,
    "nbpresent": {
     "id": "7e0a3f94-947a-46ba-96d8-51b96ab77ddd"
    }
   },
   "outputs": [],
   "source": [
    "def rank(key, a):\n",
    "    '''\n",
    "    Core function of binary search.\n",
    "    Array must be sorted.\n",
    "    '''\n",
    "    lo = 0\n",
    "    hi = len(a) - 1;\n",
    "    while lo <= hi:\n",
    "        mid = lo + (hi - lo)/2\n",
    "        if   key < a[mid]: hi = mid - 1\n",
    "        elif key > a[mid]: lo = mid + 1\n",
    "        else             : return mid\n",
    "    return -1"
   ]
  },
  {
   "cell_type": "markdown",
   "metadata": {
    "raw_mimetype": "text/markdown"
   },
   "source": [
    "Unit-test modules for the binary search are as follows,\n",
    "\n",
    "* Load testing data"
   ]
  },
  {
   "cell_type": "code",
   "execution_count": 15,
   "metadata": {
    "collapsed": false,
    "nbpresent": {
     "id": "f0fd3fd2-bdef-43fb-85ef-70b88f03495e"
    }
   },
   "outputs": [
    {
     "name": "stdout",
     "output_type": "stream",
     "text": [
      "[23.0, 50.0, 10.0, 99.0, 18.0, 23.0, 98.0, 84.0, 11.0, 10.0, 48.0, 77.0, 13.0, 54.0, 98.0, 77.0, 77.0, 68.0]\n",
      "[84.0, 48.0, 68.0, 10.0, 18.0, 98.0, 12.0, 23.0, 54.0, 57.0, 48.0, 33.0, 16.0, 77.0, 11.0, 29.0]\n"
     ]
    }
   ],
   "source": [
    "import numpy as np\n",
    "testdata  = (np.loadtxt(\"./tinyT.txt\")).tolist()\n",
    "whitelist = (np.loadtxt(\"./tinyW.txt\")).tolist()\n",
    "print(testdata)\n",
    "print(whitelist)"
   ]
  },
  {
   "cell_type": "markdown",
   "metadata": {
    "nbpresent": {
     "id": "136bd554-9ade-489b-abca-d1e2aa9c306c"
    }
   },
   "source": [
    "* Sort the whitelist"
   ]
  },
  {
   "cell_type": "code",
   "execution_count": 16,
   "metadata": {
    "collapsed": false,
    "nbpresent": {
     "id": "64d4781d-dc31-47d8-a99e-4f39ec116221"
    }
   },
   "outputs": [
    {
     "name": "stdout",
     "output_type": "stream",
     "text": [
      "[10.0, 11.0, 12.0, 16.0, 18.0, 23.0, 29.0, 33.0, 48.0, 48.0, 54.0, 57.0, 68.0, 77.0, 84.0, 98.0]\n"
     ]
    }
   ],
   "source": [
    "whitelist.sort()\n",
    "print(whitelist)"
   ]
  },
  {
   "cell_type": "markdown",
   "metadata": {
    "nbpresent": {
     "id": "08fe7978-2338-43ae-8bbb-bcf82993e57f"
    }
   },
   "source": [
    "* Invoke rank() to do searching"
   ]
  },
  {
   "cell_type": "code",
   "execution_count": 18,
   "metadata": {
    "collapsed": false,
    "nbpresent": {
     "id": "39e12e03-8ba1-462e-86bf-0291c9a9ad95"
    }
   },
   "outputs": [
    {
     "name": "stdout",
     "output_type": "stream",
     "text": [
      "50.0 is not in the whitelist.\n",
      "99.0 is not in the whitelist.\n",
      "13.0 is not in the whitelist.\n"
     ]
    }
   ],
   "source": [
    "for key in testdata:\n",
    "    if rank(key, whitelist) < 0:\n",
    "        print(str(key) + \" is not in the whitelist.\")"
   ]
  },
  {
   "cell_type": "markdown",
   "metadata": {},
   "source": [
    "***"
   ]
  },
  {
   "cell_type": "markdown",
   "metadata": {},
   "source": [
    "Three examples of plotting:"
   ]
  },
  {
   "cell_type": "code",
   "execution_count": 19,
   "metadata": {
    "collapsed": false,
    "nbpresent": {
     "id": "6db4d13d-883f-4c84-929c-44bbf36d552f"
    }
   },
   "outputs": [
    {
     "data": {
      "image/png": "[encoded data removed]",
      "text/plain": [
       "<matplotlib.figure.Figure at 0x10c82e690>"
      ]
     },
     "metadata": {},
     "output_type": "display_data"
    }
   ],
   "source": [
    "# function values\n",
    "%matplotlib inline\n",
    "import matplotlib.pylab as plt\n",
    "import math\n",
    "\n",
    "N = 100\n",
    "x = []\n",
    "y_1 = []\n",
    "y_n2 = []\n",
    "y_nlogn = []\n",
    "for i in range(1, N+1):\n",
    "    x.append(i)\n",
    "    y_1.append(i)\n",
    "    y_n2.append(i*i)\n",
    "    y_nlogn.append(i*math.log(i))\n",
    "\n",
    "plt.figure()\n",
    "plt.plot(x, y_1)\n",
    "plt.plot(x, y_n2)\n",
    "plt.plot(x, y_nlogn)\n",
    "plt.show()"
   ]
  },
  {
   "cell_type": "code",
   "execution_count": 26,
   "metadata": {
    "collapsed": false
   },
   "outputs": [
    {
     "data": {
      "image/png": "[encoded data removed]",
      "text/plain": [
       "<matplotlib.figure.Figure at 0x10f5505d0>"
      ]
     },
     "metadata": {},
     "output_type": "display_data"
    }
   ],
   "source": [
    "# array of random values\n",
    "%matplotlib inline\n",
    "import matplotlib.pylab as plt\n",
    "import random\n",
    "import math\n",
    "\n",
    "N = 50\n",
    "x = []\n",
    "y = []\n",
    "for i in range(N):\n",
    "    x.append(i)\n",
    "    y.append(random.random())\n",
    "    \n",
    "plt.figure()\n",
    "plt.bar(x, y, facecolor='#9999ff', edgecolor='white')\n",
    "plt.show()"
   ]
  },
  {
   "cell_type": "code",
   "execution_count": 27,
   "metadata": {
    "collapsed": false
   },
   "outputs": [
    {
     "data": {
      "image/png": "[encoded data removed]",
      "text/plain": [
       "<matplotlib.figure.Figure at 0x10f71a690>"
      ]
     },
     "metadata": {},
     "output_type": "display_data"
    }
   ],
   "source": [
    "# sorted array of random values\n",
    "%matplotlib inline\n",
    "import matplotlib.pylab as plt\n",
    "import random\n",
    "import math\n",
    "\n",
    "N = 50\n",
    "x = []\n",
    "y = []\n",
    "for i in range(N):\n",
    "    x.append(i)\n",
    "    y.append(random.random())\n",
    "\n",
    "y.sort()\n",
    "    \n",
    "plt.figure()\n",
    "plt.bar(x, y, facecolor='#9999ff', edgecolor='white')\n",
    "plt.show()"
   ]
  },
  {
   "cell_type": "markdown",
   "metadata": {},
   "source": [
    "---"
   ]
  },
  {
   "cell_type": "code",
   "execution_count": null,
   "metadata": {
    "collapsed": true
   },
   "outputs": [],
   "source": []
  }
 ],
 "metadata": {
  "anaconda-cloud": {},
  "celltoolbar": "Raw Cell Format",
  "kernelspec": {
   "display_name": "Python [Root]",
   "language": "python",
   "name": "Python [Root]"
  },
  "language_info": {
   "codemirror_mode": {
    "name": "ipython",
    "version": 2
   },
   "file_extension": ".py",
   "mimetype": "text/x-python",
   "name": "python",
   "nbconvert_exporter": "python",
   "pygments_lexer": "ipython2",
   "version": "2.7.12"
  },
  "nbpresent": {
   "slides": {
    "08721846-7c96-486c-84ff-644cd17b51d0": {
     "id": "08721846-7c96-486c-84ff-644cd17b51d0",
     "prev": "f5eb796f-a92c-48b6-9ff7-5a68e1154044",
     "regions": {
      "2d56b5e7-566a-4ecd-a288-9a7fb22bc86d": {
       "attrs": {
        "height": 0.8,
        "width": 0.8,
        "x": 0.1,
        "y": 0.1
       },
       "content": {
        "cell": "966452f0-9bdf-4941-8263-713c51cdd126",
        "part": "whole"
       },
       "id": "2d56b5e7-566a-4ecd-a288-9a7fb22bc86d"
      }
     }
    },
    "0d33cd14-48a3-425c-bf96-63bd3f66af21": {
     "id": "0d33cd14-48a3-425c-bf96-63bd3f66af21",
     "prev": "1f8e89de-b6fe-4394-9945-c9df257dc0c9",
     "regions": {
      "d12a082c-3401-4027-ae52-00d5b3538e43": {
       "attrs": {
        "height": 0.8,
        "width": 0.8,
        "x": 0.1,
        "y": 0.1
       },
       "content": {
        "cell": "39e12e03-8ba1-462e-86bf-0291c9a9ad95",
        "part": "whole"
       },
       "id": "d12a082c-3401-4027-ae52-00d5b3538e43"
      }
     }
    },
    "1b08fe3a-20b1-4609-ac9d-a552c9ea483e": {
     "id": "1b08fe3a-20b1-4609-ac9d-a552c9ea483e",
     "prev": "3a3e58b2-b991-498e-a81e-7c4d88a6ee54",
     "regions": {
      "afda9738-2c42-427d-8a89-4f3a9d1fd980": {
       "attrs": {
        "height": 0.8,
        "width": 0.8,
        "x": 0.1,
        "y": 0.1
       },
       "content": {
        "cell": "1adeb72d-b54d-44af-b59e-60db3571739a",
        "part": "whole"
       },
       "id": "afda9738-2c42-427d-8a89-4f3a9d1fd980"
      }
     }
    },
    "1f8e89de-b6fe-4394-9945-c9df257dc0c9": {
     "id": "1f8e89de-b6fe-4394-9945-c9df257dc0c9",
     "prev": "6351a68d-9149-4f27-8e75-3d6bb7db948b",
     "regions": {
      "bb9d0a88-4cc7-4385-b84e-d73c5571af30": {
       "attrs": {
        "height": 0.8,
        "width": 0.8,
        "x": 0.1,
        "y": 0.1
       },
       "content": {
        "cell": "08fe7978-2338-43ae-8bbb-bcf82993e57f",
        "part": "whole"
       },
       "id": "bb9d0a88-4cc7-4385-b84e-d73c5571af30"
      }
     }
    },
    "3a3e58b2-b991-498e-a81e-7c4d88a6ee54": {
     "id": "3a3e58b2-b991-498e-a81e-7c4d88a6ee54",
     "prev": null,
     "regions": {
      "d7790e2b-6fdb-4729-9465-38ddf4b92872": {
       "attrs": {
        "height": 0.8,
        "width": 0.8,
        "x": 0.1,
        "y": 0.1
       },
       "content": {
        "cell": "f9cdef97-bd87-4151-8457-a1e1cc78e4e8",
        "part": "whole"
       },
       "id": "d7790e2b-6fdb-4729-9465-38ddf4b92872"
      }
     }
    },
    "4ae8fd3d-3ea9-49c8-9edd-029890af7a85": {
     "id": "4ae8fd3d-3ea9-49c8-9edd-029890af7a85",
     "prev": "0d33cd14-48a3-425c-bf96-63bd3f66af21",
     "regions": {
      "4db7bb6b-c7cb-48a6-a724-790704212db1": {
       "attrs": {
        "height": 0.8,
        "width": 0.8,
        "x": 0.1,
        "y": 0.1
       },
       "content": {
        "cell": "6db4d13d-883f-4c84-929c-44bbf36d552f",
        "part": "whole"
       },
       "id": "4db7bb6b-c7cb-48a6-a724-790704212db1"
      }
     }
    },
    "556debd0-7a50-4d8f-98d9-09f6381aa2f8": {
     "id": "556debd0-7a50-4d8f-98d9-09f6381aa2f8",
     "prev": "a2a9219a-d71b-473f-af59-3e71ff90195e",
     "regions": {
      "23f4e8a5-5aa9-4d3b-8816-78b16f18eef5": {
       "attrs": {
        "height": 0.8,
        "width": 0.8,
        "x": 0.1,
        "y": 0.1
       },
       "content": {
        "cell": "136bd554-9ade-489b-abca-d1e2aa9c306c",
        "part": "whole"
       },
       "id": "23f4e8a5-5aa9-4d3b-8816-78b16f18eef5"
      }
     }
    },
    "57ac2fd6-d7bc-47a6-bd62-ceebf75e6383": {
     "id": "57ac2fd6-d7bc-47a6-bd62-ceebf75e6383",
     "prev": "4ae8fd3d-3ea9-49c8-9edd-029890af7a85",
     "regions": {
      "08ce706a-6529-45c1-8100-fbc84a6d1a50": {
       "attrs": {
        "height": 0.8,
        "width": 0.8,
        "x": 0.1,
        "y": 0.1
       },
       "content": {
        "cell": "b81f8be8-a85c-4d59-9100-95eb1121fe1d",
        "part": "whole"
       },
       "id": "08ce706a-6529-45c1-8100-fbc84a6d1a50"
      }
     }
    },
    "6351a68d-9149-4f27-8e75-3d6bb7db948b": {
     "id": "6351a68d-9149-4f27-8e75-3d6bb7db948b",
     "prev": "556debd0-7a50-4d8f-98d9-09f6381aa2f8",
     "regions": {
      "1291747d-e1d8-4c52-b4c9-dc720ae1e3eb": {
       "attrs": {
        "height": 0.8,
        "width": 0.8,
        "x": 0.1,
        "y": 0.1
       },
       "content": {
        "cell": "64d4781d-dc31-47d8-a99e-4f39ec116221",
        "part": "whole"
       },
       "id": "1291747d-e1d8-4c52-b4c9-dc720ae1e3eb"
      }
     }
    },
    "a2a9219a-d71b-473f-af59-3e71ff90195e": {
     "id": "a2a9219a-d71b-473f-af59-3e71ff90195e",
     "prev": "08721846-7c96-486c-84ff-644cd17b51d0",
     "regions": {
      "5cae5b1c-b289-40e8-92d9-0c76a669112c": {
       "attrs": {
        "height": 0.8,
        "width": 0.8,
        "x": 0.1,
        "y": 0.1
       },
       "content": {
        "cell": "f0fd3fd2-bdef-43fb-85ef-70b88f03495e",
        "part": "whole"
       },
       "id": "5cae5b1c-b289-40e8-92d9-0c76a669112c"
      }
     }
    },
    "a8dc50c9-0ab9-41fb-a840-1e7babca32d3": {
     "id": "a8dc50c9-0ab9-41fb-a840-1e7babca32d3",
     "prev": "57ac2fd6-d7bc-47a6-bd62-ceebf75e6383",
     "regions": {
      "604d6988-2b00-4b3c-b7d1-f47eff21b596": {
       "attrs": {
        "height": 0.8,
        "width": 0.8,
        "x": 0.1,
        "y": 0.1
       },
       "content": {
        "cell": "78d1a707-1f58-439d-8fa6-29ebbb21fb34",
        "part": "whole"
       },
       "id": "604d6988-2b00-4b3c-b7d1-f47eff21b596"
      }
     }
    },
    "f5eb796f-a92c-48b6-9ff7-5a68e1154044": {
     "id": "f5eb796f-a92c-48b6-9ff7-5a68e1154044",
     "prev": "1b08fe3a-20b1-4609-ac9d-a552c9ea483e",
     "regions": {
      "e7c6f305-ebcf-4bdb-afb5-d3e6205b7e68": {
       "attrs": {
        "height": 0.8,
        "width": 0.8,
        "x": 0.1,
        "y": 0.1
       },
       "content": {
        "cell": "7e0a3f94-947a-46ba-96d8-51b96ab77ddd",
        "part": "whole"
       },
       "id": "e7c6f305-ebcf-4bdb-afb5-d3e6205b7e68"
      }
     }
    }
   },
   "themes": {}
  }
 },
 "nbformat": 4,
 "nbformat_minor": 0
}
